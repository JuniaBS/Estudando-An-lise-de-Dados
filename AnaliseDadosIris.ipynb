{
  "nbformat": 4,
  "nbformat_minor": 0,
  "metadata": {
    "colab": {
      "provenance": [],
      "authorship_tag": "ABX9TyPAxghF9s0AN5fK4Bl/B9jV",
      "include_colab_link": true
    },
    "kernelspec": {
      "name": "python3",
      "display_name": "Python 3"
    },
    "language_info": {
      "name": "python"
    }
  },
  "cells": [
    {
      "cell_type": "markdown",
      "metadata": {
        "id": "view-in-github",
        "colab_type": "text"
      },
      "source": [
        "<a href=\"https://colab.research.google.com/github/JuniaBS/Estudando-An-lise-de-Dados/blob/main/AED3.ipynb\" target=\"_parent\"><img src=\"https://colab.research.google.com/assets/colab-badge.svg\" alt=\"Open In Colab\"/></a>"
      ]
    },
    {
      "cell_type": "markdown",
      "source": [],
      "metadata": {
        "id": "aCC6OwJX0Zvv"
      }
    },
    {
      "cell_type": "markdown",
      "source": [
        "# Estudando análise exploratória de dados com Python."
      ],
      "metadata": {
        "id": "2-Dj4i3d0cKL"
      }
    },
    {
      "cell_type": "markdown",
      "source": [
        "Utilizei o conjunto de dados Íris ou conjunto de dados Íris de Fisher é um conjunto de\n",
        "dados multivariados introduzido pelo estatístico e biólogo britânico Ronald Fisher em\n",
        "seu artigo de 1936, no qual coletou os dados para quantificar a variação morfológica das\n",
        "flores da Íris de três espécies. Este conjunto pode ser encontrado nos seguintes\n",
        "endereços:\n",
        "● UCI ( https://archive.ics.uci.edu/ml/datasets/iris)\n",
        "● IFCS( https://ifcs.boku.ac.at/repository/data/iris/index.html)"
      ],
      "metadata": {
        "id": "_fJR9Pp525eo"
      }
    },
    {
      "cell_type": "markdown",
      "source": [
        "Importando arquivos e realizando agrupamento\n",
        "de dados e filtros"
      ],
      "metadata": {
        "id": "PiubSsxBBJ6R"
      }
    },
    {
      "cell_type": "code",
      "source": [
        "import pandas as pd\n",
        "df = pd.read_csv('iris.csv')"
      ],
      "metadata": {
        "id": "x5U8O4Hy3B70"
      },
      "execution_count": null,
      "outputs": []
    },
    {
      "cell_type": "code",
      "source": [
        "print(df)"
      ],
      "metadata": {
        "id": "VUQpLWKZ1gpR"
      },
      "execution_count": null,
      "outputs": []
    },
    {
      "cell_type": "code",
      "source": [
        "df.head()"
      ],
      "metadata": {
        "id": "-b3uGq-b33RT"
      },
      "execution_count": null,
      "outputs": []
    },
    {
      "cell_type": "code",
      "source": [
        "df.head(2)"
      ],
      "metadata": {
        "id": "_oAYi00X41er"
      },
      "execution_count": null,
      "outputs": []
    },
    {
      "cell_type": "code",
      "source": [
        "df.tail()"
      ],
      "metadata": {
        "id": "ThLMvAUs5Lll"
      },
      "execution_count": null,
      "outputs": []
    },
    {
      "cell_type": "code",
      "source": [
        "df.tail(2)"
      ],
      "metadata": {
        "id": "SU9nyEU45RRX"
      },
      "execution_count": null,
      "outputs": []
    },
    {
      "cell_type": "code",
      "source": [
        "df.dtypes"
      ],
      "metadata": {
        "id": "cl11JVDk5lK_"
      },
      "execution_count": null,
      "outputs": []
    },
    {
      "cell_type": "code",
      "source": [
        "print(df.shape)"
      ],
      "metadata": {
        "id": "bjzR5KFP5p4h"
      },
      "execution_count": null,
      "outputs": []
    },
    {
      "cell_type": "code",
      "source": [
        "df['Species'].nunique()"
      ],
      "metadata": {
        "id": "8ZLc73mQ6iLA"
      },
      "execution_count": null,
      "outputs": []
    },
    {
      "cell_type": "code",
      "source": [
        "df['Species'].unique()"
      ],
      "metadata": {
        "id": "aWYBjpTf7ExE"
      },
      "execution_count": null,
      "outputs": []
    },
    {
      "cell_type": "code",
      "source": [
        "df.info()"
      ],
      "metadata": {
        "id": "ygrgmzpv7oLY"
      },
      "execution_count": null,
      "outputs": []
    },
    {
      "cell_type": "code",
      "source": [
        "import pandas as pd\n",
        "df = pd.read_csv('iris.csv')\n",
        "g = df.groupby('Species')\n",
        "g.head()"
      ],
      "metadata": {
        "id": "t5OC5UKR7rmh"
      },
      "execution_count": null,
      "outputs": []
    },
    {
      "cell_type": "code",
      "source": [
        "g = df.groupby('Species').min()\n",
        "g.head()"
      ],
      "metadata": {
        "id": "YPyOlT3i8wvb"
      },
      "execution_count": null,
      "outputs": []
    },
    {
      "cell_type": "code",
      "source": [
        "g = df.groupby('Species').max()\n",
        "g.head()"
      ],
      "metadata": {
        "id": "W7n-5MY39PQv"
      },
      "execution_count": null,
      "outputs": []
    },
    {
      "cell_type": "code",
      "source": [
        "g = df.groupby('Species').count()\n",
        "g.head()"
      ],
      "metadata": {
        "id": "-mF_svqe9frZ"
      },
      "execution_count": null,
      "outputs": []
    },
    {
      "cell_type": "code",
      "source": [
        "g = df.groupby('Species').sum()\n",
        "g.head()"
      ],
      "metadata": {
        "id": "ONGZDEWI9ncJ"
      },
      "execution_count": null,
      "outputs": []
    },
    {
      "cell_type": "code",
      "source": [
        "g = df.groupby('Species').mean()\n",
        "g.head()"
      ],
      "metadata": {
        "id": "tbUBtWoT90Gi"
      },
      "execution_count": null,
      "outputs": []
    },
    {
      "cell_type": "code",
      "source": [
        "df['Species']"
      ],
      "metadata": {
        "id": "mV2F4brp-Ccu"
      },
      "execution_count": null,
      "outputs": []
    },
    {
      "cell_type": "code",
      "source": [
        "df.iloc[0]"
      ],
      "metadata": {
        "id": "E6sKiYIS-VZy"
      },
      "execution_count": null,
      "outputs": []
    },
    {
      "cell_type": "code",
      "source": [
        "df.loc[5]"
      ],
      "metadata": {
        "id": "zKXXxIqc-aGY"
      },
      "execution_count": null,
      "outputs": []
    },
    {
      "cell_type": "code",
      "source": [
        "df.loc[[0,1,2]]"
      ],
      "metadata": {
        "id": "BmGa2N5p-9AI"
      },
      "execution_count": null,
      "outputs": []
    },
    {
      "cell_type": "code",
      "source": [
        "import pandas as pd\n",
        "df = pd.read_csv('iris.csv')\n",
        "df.query('`Sepal.Length` > 5.7')"
      ],
      "metadata": {
        "id": "A8VxR6vJ_igU"
      },
      "execution_count": null,
      "outputs": []
    },
    {
      "cell_type": "code",
      "source": [
        "df.query(\"Species == 'setosa'\")"
      ],
      "metadata": {
        "id": "8olvQx1tAOSh"
      },
      "execution_count": null,
      "outputs": []
    },
    {
      "cell_type": "code",
      "source": [
        "valor='virginica'\n",
        "df.query(\"Species == @valor\")"
      ],
      "metadata": {
        "id": "x54y3zH2Aa9K"
      },
      "execution_count": null,
      "outputs": []
    },
    {
      "cell_type": "code",
      "source": [
        "df.query(\"Species != 'setosa'\")"
      ],
      "metadata": {
        "id": "MdMI2X7mAkhL"
      },
      "execution_count": null,
      "outputs": []
    },
    {
      "cell_type": "code",
      "source": [
        "df.query(\"Species in ('setosa','versicolor')\")"
      ],
      "metadata": {
        "id": "1-4Ie5F3Atil"
      },
      "execution_count": null,
      "outputs": []
    },
    {
      "cell_type": "code",
      "source": [
        "df.query(\"`Sepal.Length` >= 7\")"
      ],
      "metadata": {
        "id": "UAlXJEo1AzGB"
      },
      "execution_count": null,
      "outputs": []
    },
    {
      "cell_type": "code",
      "source": [
        "df.query(\"`Sepal.Length` >= 7.2 and `Sepal.Length` <= 7.4\")"
      ],
      "metadata": {
        "id": "mzJVHbPNA2_g"
      },
      "execution_count": null,
      "outputs": []
    }
  ]
}