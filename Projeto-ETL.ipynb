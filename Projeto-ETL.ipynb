{
  "nbformat": 4,
  "nbformat_minor": 0,
  "metadata": {
    "colab": {
      "provenance": [],
      "authorship_tag": "ABX9TyOaAAeTeXzovHOlXKT0g7Gd",
      "include_colab_link": true
    },
    "kernelspec": {
      "name": "python3",
      "display_name": "Python 3"
    },
    "language_info": {
      "name": "python"
    }
  },
  "cells": [
    {
      "cell_type": "markdown",
      "metadata": {
        "id": "view-in-github",
        "colab_type": "text"
      },
      "source": [
        "<a href=\"https://colab.research.google.com/github/JuniaBS/Estudando-An-lise-de-Dados/blob/main/projeto_etl.ipynb\" target=\"_parent\"><img src=\"https://colab.research.google.com/assets/colab-badge.svg\" alt=\"Open In Colab\"/></a>"
      ]
    },
    {
      "cell_type": "markdown",
      "source": [
        "### **Projeto**\n",
        "Objetivo: Armazenar os gastos (até o momento) por deputado federal.\n",
        "1 Obter os dados\n",
        "2 Efetuar os ajustes necessários\n",
        "3 Armazenar no sqlite"
      ],
      "metadata": {
        "id": "Js8DAT5bg3N0"
      }
    },
    {
      "cell_type": "code",
      "execution_count": null,
      "metadata": {
        "id": "5HaBhVG_gyGG"
      },
      "outputs": [],
      "source": [
        "import pandas as pd\n",
        "import requests"
      ]
    },
    {
      "cell_type": "code",
      "source": [
        "url = \"https://dadosabertos.camara.leg.br/api/v2/deputados?ordem=ASC&ordenarPor=nome\"\n",
        "resultado = requests.get(url)"
      ],
      "metadata": {
        "id": "Bp_eJWxyhB74"
      },
      "execution_count": null,
      "outputs": []
    },
    {
      "cell_type": "code",
      "source": [
        "deputados = pd.DataFrame(resultado.json()['dados'])"
      ],
      "metadata": {
        "id": "1G0W2gr9hFa_"
      },
      "execution_count": null,
      "outputs": []
    },
    {
      "cell_type": "code",
      "source": [
        "deputados.head()"
      ],
      "metadata": {
        "id": "vB_YBpvjhH8P"
      },
      "execution_count": null,
      "outputs": []
    },
    {
      "cell_type": "code",
      "source": [
        "deputados.shape"
      ],
      "metadata": {
        "colab": {
          "base_uri": "https://localhost:8080/"
        },
        "id": "C-KYaS5zhLL3",
        "outputId": "4ecee3e7-380a-4874-9f7d-37a571be39fe"
      },
      "execution_count": null,
      "outputs": [
        {
          "output_type": "execute_result",
          "data": {
            "text/plain": [
              "(511, 9)"
            ]
          },
          "metadata": {},
          "execution_count": 5
        }
      ]
    },
    {
      "cell_type": "code",
      "source": [
        "gastos = []\n",
        "for id in deputados.id:\n",
        "    url_despesa = \"https://dadosabertos.camara.leg.br/api/v2/\"\n",
        "    url_despesa = url_despesa + \"deputados/\"+str(id)+\"/despesas?ordem=ASC&ano=2023\"\n",
        "    resposta = requests.get(url_despesa)\n",
        "    gasto = pd.DataFrame(resposta.json()['dados'])\n",
        "    gasto['id'] = id\n",
        "    gastos.append(gasto)\n"
      ],
      "metadata": {
        "id": "SwVze3yKhPOK"
      },
      "execution_count": null,
      "outputs": []
    },
    {
      "cell_type": "code",
      "source": [
        "len(gastos)"
      ],
      "metadata": {
        "colab": {
          "base_uri": "https://localhost:8080/"
        },
        "id": "8ZEr6ycpiyzW",
        "outputId": "573f00ba-0673-4590-f86d-b07170498950"
      },
      "execution_count": null,
      "outputs": [
        {
          "output_type": "execute_result",
          "data": {
            "text/plain": [
              "511"
            ]
          },
          "metadata": {},
          "execution_count": 7
        }
      ]
    },
    {
      "cell_type": "code",
      "source": [
        "len(gastos[0])"
      ],
      "metadata": {
        "colab": {
          "base_uri": "https://localhost:8080/"
        },
        "id": "k4JuZGNWi9RP",
        "outputId": "b3508df2-23bd-4bb0-afe3-5c0c0aac6cf1"
      },
      "execution_count": null,
      "outputs": [
        {
          "output_type": "execute_result",
          "data": {
            "text/plain": [
              "15"
            ]
          },
          "metadata": {},
          "execution_count": 8
        }
      ]
    },
    {
      "cell_type": "code",
      "source": [
        "gastos[0]"
      ],
      "metadata": {
        "id": "-OzF9E1OjMRy"
      },
      "execution_count": null,
      "outputs": []
    },
    {
      "cell_type": "markdown",
      "source": [
        "### **Transformação**"
      ],
      "metadata": {
        "id": "6Jk4wHvckGLO"
      }
    },
    {
      "cell_type": "code",
      "source": [
        "total = pd.concat(gastos)"
      ],
      "metadata": {
        "id": "qhk-PWIdkQ-d"
      },
      "execution_count": null,
      "outputs": []
    },
    {
      "cell_type": "code",
      "source": [
        "total.head()"
      ],
      "metadata": {
        "id": "qcWSxZotk6AB"
      },
      "execution_count": null,
      "outputs": []
    },
    {
      "cell_type": "code",
      "source": [
        "total.sample(3)"
      ],
      "metadata": {
        "id": "KCkD3ENDlBbn"
      },
      "execution_count": null,
      "outputs": []
    },
    {
      "cell_type": "markdown",
      "source": [
        "## **A base possui valores ausentes?**"
      ],
      "metadata": {
        "id": "CUdAC8RrlipZ"
      }
    },
    {
      "cell_type": "code",
      "source": [
        "total.isnull().sum()"
      ],
      "metadata": {
        "id": "Oeq_yU3FlNBD"
      },
      "execution_count": null,
      "outputs": []
    },
    {
      "cell_type": "code",
      "source": [
        "del total['dataDocumento']"
      ],
      "metadata": {
        "id": "Ab9V4YfvmTq0"
      },
      "execution_count": null,
      "outputs": []
    },
    {
      "cell_type": "code",
      "source": [
        "del total ['urlDocumento']"
      ],
      "metadata": {
        "id": "KtAMLCD6meWg"
      },
      "execution_count": null,
      "outputs": []
    },
    {
      "cell_type": "code",
      "source": [
        "total.head()"
      ],
      "metadata": {
        "id": "2A65jsB5mnUU"
      },
      "execution_count": null,
      "outputs": []
    },
    {
      "cell_type": "code",
      "source": [
        "total.numRessarcimento.value_counts()"
      ],
      "metadata": {
        "colab": {
          "base_uri": "https://localhost:8080/"
        },
        "id": "aOYileA0m0Kf",
        "outputId": "42052353-98df-4451-a92d-9466919c1071"
      },
      "execution_count": null,
      "outputs": [
        {
          "output_type": "execute_result",
          "data": {
            "text/plain": [
              "     6692\n",
              "0     882\n",
              "Name: numRessarcimento, dtype: int64"
            ]
          },
          "metadata": {},
          "execution_count": 24
        }
      ]
    },
    {
      "cell_type": "code",
      "source": [
        "total.shape"
      ],
      "metadata": {
        "colab": {
          "base_uri": "https://localhost:8080/"
        },
        "id": "qgWHU-s7nac2",
        "outputId": "8b13eb82-4950-4740-df69-d3bf5cdb4962"
      },
      "execution_count": null,
      "outputs": [
        {
          "output_type": "execute_result",
          "data": {
            "text/plain": [
              "(7574, 16)"
            ]
          },
          "metadata": {},
          "execution_count": 25
        }
      ]
    },
    {
      "cell_type": "code",
      "source": [
        "del total['numRessarcimento']"
      ],
      "metadata": {
        "id": "drHX7EA5ngc7"
      },
      "execution_count": null,
      "outputs": []
    },
    {
      "cell_type": "code",
      "source": [
        "total.head()"
      ],
      "metadata": {
        "id": "FAqpWTmDnnR1"
      },
      "execution_count": null,
      "outputs": []
    },
    {
      "cell_type": "code",
      "source": [
        "print(total.shape)\n",
        "total.drop_duplicates()\n",
        "print(total.shape)"
      ],
      "metadata": {
        "id": "FXA9bx-couvp"
      },
      "execution_count": null,
      "outputs": []
    },
    {
      "cell_type": "code",
      "source": [
        "total.info()"
      ],
      "metadata": {
        "id": "b1iUGW85pIrn"
      },
      "execution_count": null,
      "outputs": []
    },
    {
      "cell_type": "code",
      "source": [
        "total.describe()"
      ],
      "metadata": {
        "id": "N7S2Tdo1pT9Q"
      },
      "execution_count": null,
      "outputs": []
    },
    {
      "cell_type": "code",
      "source": [
        "total.nomeFornecedor.value_counts()"
      ],
      "metadata": {
        "id": "mIxcTeVppmpE"
      },
      "execution_count": null,
      "outputs": []
    },
    {
      "cell_type": "code",
      "source": [
        "total.nomeFornecedor = [str(fornecedor).upper().replace(\"S.A.\", \"S.A\").replace(\"S/A.\", \"S.A\") for fornecedor in total.nomeFornecedor]"
      ],
      "metadata": {
        "id": "idjB1d5SqV7e"
      },
      "execution_count": null,
      "outputs": []
    },
    {
      "cell_type": "code",
      "source": [
        "total.nomeFornecedor.value_counts()"
      ],
      "metadata": {
        "id": "McU3GYqFr-Xc"
      },
      "execution_count": null,
      "outputs": []
    },
    {
      "cell_type": "code",
      "source": [],
      "metadata": {
        "id": "CyLLiwCxsfvn"
      },
      "execution_count": null,
      "outputs": []
    },
    {
      "cell_type": "markdown",
      "source": [],
      "metadata": {
        "id": "VYmDVuJhsg7P"
      }
    },
    {
      "cell_type": "markdown",
      "source": [],
      "metadata": {
        "id": "xrcmY4iJlhTZ"
      }
    },
    {
      "cell_type": "markdown",
      "source": [],
      "metadata": {
        "id": "iurY0PRcg1c1"
      }
    }
  ]
}